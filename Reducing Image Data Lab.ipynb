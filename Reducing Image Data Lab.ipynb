{
 "cells": [
  {
   "cell_type": "code",
   "execution_count": 1,
   "metadata": {},
   "outputs": [],
   "source": [
    "from astropy.io import fits\n",
    "from astropy import units as u\n",
    "import numpy as np\n",
    "from astropy.nddata import CCDData\n",
    "import ccdproc\n",
    "import glob"
   ]
  },
  {
   "cell_type": "code",
   "execution_count": 2,
   "metadata": {},
   "outputs": [],
   "source": [
    "bias_list = glob.glob('wolf1346/Wolf1346/f/bias.*.fits')\n",
    "bias_list_opened = []\n",
    "bias_mean_list = []\n",
    "sum_of_biases = fits.open(bias_list[0])[0].data\n",
    "count = 0\n",
    "for file_name in bias_list:\n",
    "    bias_list_opened.append(fits.open(file_name))\n",
    "    bias_mean_list.append(np.mean(bias_list_opened[count][0].data))\n",
    "    if count > 0:\n",
    "        sum_of_biases += bias_list_opened[count][0].data     \n",
    "    count = count + 1\n",
    "master_bias = sum_of_biases/len(bias_list)\n",
    "# I'm using mean instead of median, not because of some strong mathematical opinion I hold but because it's what I did first."
   ]
  },
  {
   "cell_type": "code",
   "execution_count": 3,
   "metadata": {},
   "outputs": [
    {
     "name": "stdout",
     "output_type": "stream",
     "text": [
      "[351.70354319927594, 351.3568139518693, 351.65315007774245, 351.7383458262746, 351.675116381611, 351.7116537095913, 351.40129446984287, 351.67762200923625, 351.6943257292706, 351.5752312547864, 351.4999043883874]\n"
     ]
    }
   ],
   "source": [
    "print(bias_mean_list)"
   ]
  },
  {
   "cell_type": "code",
   "execution_count": 4,
   "metadata": {},
   "outputs": [
    {
     "name": "stdout",
     "output_type": "stream",
     "text": [
      "351.47656093552536\n"
     ]
    }
   ],
   "source": [
    "print(np.mean(sum_of_biases/len(bias_mean_list)))"
   ]
  },
  {
   "cell_type": "code",
   "execution_count": 5,
   "metadata": {},
   "outputs": [
    {
     "name": "stdout",
     "output_type": "stream",
     "text": [
      "351.60790918162616\n"
     ]
    }
   ],
   "source": [
    "print(np.mean(bias_mean_list))"
   ]
  },
  {
   "cell_type": "code",
   "execution_count": 6,
   "metadata": {},
   "outputs": [
    {
     "name": "stderr",
     "output_type": "stream",
     "text": [
      "WARNING: VerifyWarning: Verification reported errors: [astropy.io.fits.verify]\n",
      "WARNING: VerifyWarning: Card 'CD1_1' is not FITS standard (invalid value string: '+NAN                 / WCS (1/InstScaleX)*cos(InstAng)').  Fixed 'CD1_1' card to meet the FITS standard. [astropy.io.fits.verify]\n",
      "WARNING: VerifyWarning: Note: astropy.io.fits uses zero-based indexing.\n",
      " [astropy.io.fits.verify]\n",
      "WARNING: VerifyWarning: Card 'CD1_2' is not FITS standard (invalid value string: '+NAN                 / WCS (1/InstScaleY)*sin(InstAng)').  Fixed 'CD1_2' card to meet the FITS standard. [astropy.io.fits.verify]\n",
      "WARNING: VerifyWarning: Card 'CD2_1' is not FITS standard (invalid value string: '+NAN                 / WCS (-1/(InstScaleX)*sin(InstAng)').  Fixed 'CD2_1' card to meet the FITS standard. [astropy.io.fits.verify]\n",
      "WARNING: VerifyWarning: Card 'CD2_2' is not FITS standard (invalid value string: '+NAN                 / WCS (1/InstScaleY)*cos(InstAng)').  Fixed 'CD2_2' card to meet the FITS standard. [astropy.io.fits.verify]\n"
     ]
    },
    {
     "data": {
      "text/plain": [
       "SIMPLE  =                    T / file does conform to FITS standard             \n",
       "BITPIX  =                   16 / number of bits per data pixel                  \n",
       "NAXIS   =                    2 / number of data axes                            \n",
       "NAXIS1  =                 2102 / length of data axis 1                          \n",
       "NAXIS2  =                 2050 / length of data axis 2                          \n",
       "EXTEND  =                    T / FITS dataset may contain extensions            \n",
       "OBSERVAT= 'APO'                / Per the IRAF observatory list.                 \n",
       "TELESCOP= '3.5m'                                                                \n",
       "INSTRUME= 'arctic'             / Instrument name                                \n",
       "LATITUDE= +3.2780361000000E+01 / Latitude of telescope base                     \n",
       "LONGITUD= -1.0582041700000E+02 / Longitude of telescope base                    \n",
       "TIMESYS = 'TAI'                / Time system for DATE-OBS                       \n",
       "UTC-TAI = -37.0                / UTC = TAI + UTC_TAI(seconds)                   \n",
       "UT1-TAI = -36.61               / UT1 = TAI + UT1_TAI(seconds)                   \n",
       "LST     = '21:02:51.581'       / Local Apperent Sidereal time                   \n",
       "OBJNAME = ''                   / Object name, per TCC ObjName                   \n",
       "RADECSYS= 'Mount'              / Coordinate system, per TCC ObjSys              \n",
       "AIRPRESS= +7.2692000000000E+04 / Air pressure, Pascals                          \n",
       "HUMIDITY= +5.2000000000000E-01 / Humidity, fraction                             \n",
       "TELAZ   = +1.0399976600000E+02 / TCC AxePos azimuth                             \n",
       "TELALT  = +1.0001199000000E+01 / TCC AxePos altitude                            \n",
       "TELROT  = -1.6500000000000E-02 / TCC AxePos rotator                             \n",
       "TELFOCUS= +6.0300000000000E+02 / TCC SecFocus                                   \n",
       "ZD      = +7.9998801000000E+01 / Zenith distance                                \n",
       "AIRMASS = +5.7580871142450E+00 / 1/cos(ZD)                                      \n",
       "BOREOFFX= +0.0000000000000E+00 / TCC boresight offset X                         \n",
       "BOREOFFY= +0.0000000000000E+00 / TCC boresight offset Y                         \n",
       "FILENAME= 'flat.0008.fits'     / original filename                              \n",
       "CTYPE1  = 'RA---TAN'           / WCS projection                                 \n",
       "CTYPE2  = 'DEC--TAN'           / WCS projection                                 \n",
       "CRPIX1  = +1.0000000000000E+03 / WCS reference pixel                            \n",
       "CRPIX2  = +1.0000000000000E+03 / WCS reference pixel                            \n",
       "RA      = '6:56:00.00'         / RA hours, extrapolated from TCC ObjNetPos      \n",
       "DEC     = '10:00:00.00'        / Dec degrees, extrapolated from TCC ObjNetPos   \n",
       "CRVAL1  = +1.0400000000000E+02 / WCS reference sky pos.                         \n",
       "CRVAL2  = +1.0000000000000E+01 / WCS reference sky pos.                         \n",
       "CD1_1   = '+NAN    '           / WCS (1/InstScaleX)*cos(InstAng)                \n",
       "CD1_2   = '+NAN    '           / WCS (1/InstScaleY)*sin(InstAng)                \n",
       "CD2_1   = '+NAN    '           / WCS (-1/(InstScaleX)*sin(InstAng)              \n",
       "CD2_2   = '+NAN    '           / WCS (1/InstScaleY)*cos(InstAng)                \n",
       "COMMENT   FITS (Flexible Image Transport System) format is defined in 'Astronomy\n",
       "COMMENT   and Astrophysics', volume 376, page 359; bibcode: 2001A&A...376..359H \n",
       "BZERO   =                32768 / offset data range to that of unsigned short    \n",
       "BSCALE  =                    1 / default scaling factor                         \n",
       "DATE-OBS= '2017-05-24T11:57:39.404200' / TAI time at the start of the exposure  \n",
       "FILPOS  =                    5 / filter position                                \n",
       "FILTER  = 'Wash M  '           / filter name                                    \n",
       "BEGX    =                    1 / beginning column of CCD window                 \n",
       "BEGY    =                    1 / beginning row of CCD window                    \n",
       "BINX    =                    2 / column bin factor                              \n",
       "BINY    =                    2 / row bin factor                                 \n",
       "CCDBIN1 =                    2 / column bin factor                              \n",
       "CCDBIN2 =                    2 / row bin factor                                 \n",
       "IMAGETYP= 'Flat    '           / exposure type                                  \n",
       "EXPTIME =                  3.0 / estimated exposure time (sec)                  \n",
       "READAMPS= 'Quad    '           / readout amplifier(s)                           \n",
       "READRATE= 'Medium  '           / readout rate                                   \n",
       "CCDHEAD =                186.8 / CCD cold head temperature (K)                  \n",
       "CCDTEMP =                151.0 / CCD temperature (K)                            \n",
       "CCDHEAT =                 67.5 / CCD heater level (percent)                     \n",
       "DIFFUPOS= 'OUT     '           / Diffuser positon, in or out of the beam.       \n",
       "DIFFUROT= 'OFF     '           / Diffuser rotating.                             \n",
       "AMPLIST = '11 12 21 22'        / amplifiers read <x><y> e.g. 12=LR              \n",
       "CSEC11  = '[1:2048,1:2048]'    / data section of CCD (unbinned)                 \n",
       "DSEC11  = '[3:1026,1:1024]'    / data section of image (binned)                 \n",
       "BSEC11  = '[1029:1051,1:1024]' / bias section of image (binned)                 \n",
       "GTGAIN11=                 1.97 / predicted gain (e-/ADU)                        \n",
       "GTRON11 =                  3.9 / predicted read noise (e-)                      \n",
       "CSEC12  = '[1:2048,2049:4096]' / data section of CCD (unbinned)                 \n",
       "DSEC12  = '[3:1026,1027:2050]' / data section of image (binned)                 \n",
       "BSEC12  = '[1029:1051,1027:2050]' / bias section of image (binned)              \n",
       "GTGAIN12=                 1.95 / predicted gain (e-/ADU)                        \n",
       "GTRON12 =                  3.9 / predicted read noise (e-)                      \n",
       "CSEC21  = '[2049:4096,1:2048]' / data section of CCD (unbinned)                 \n",
       "DSEC21  = '[1077:2100,1:1024]' / data section of image (binned)                 \n",
       "BSEC21  = '[1052:1074,1:1024]' / bias section of image (binned)                 \n",
       "GTGAIN21=                 1.95 / predicted gain (e-/ADU)                        \n",
       "GTRON21 =                  3.9 / predicted read noise (e-)                      \n",
       "CSEC22  = '[2049:4096,2049:4096]' / data section of CCD (unbinned)              \n",
       "DSEC22  = '[1077:2100,1027:2050]' / data section of image (binned)              \n",
       "BSEC22  = '[1052:1074,1027:2050]' / bias section of image (binned)              \n",
       "GTGAIN22=                 1.97 / predicted gain (e-/ADU)                        \n",
       "GTRON22 =                  3.8 / predicted read noise (e-)                      "
      ]
     },
     "execution_count": 6,
     "metadata": {},
     "output_type": "execute_result"
    }
   ],
   "source": [
    "d, header = fits.getdata('wolf1346/Wolf1346/f/flat.0008.fits',header=True)\n",
    "header #= header[\"BITPIX\"]\n",
    "#fits.writeto('out.fits', d, header)"
   ]
  },
  {
   "cell_type": "code",
   "execution_count": 7,
   "metadata": {},
   "outputs": [],
   "source": [
    "def removeOverscan(f, c_x, c_w, r_y, r_h): # fits data file (location), column init x (left), column width, row init y (bottom), row height\n",
    "    # f_o = f\n",
    "    d = fits.getdata(f)\n",
    "    newD = d\n",
    "    #for x in range (c_x, c_x+c_w):\n",
    "    for i in range (0, len(d)):\n",
    "        dataout1 = np.delete(d, np.s_[c_x:c_x+c_w], axis=1)\n",
    "        dataout2 = np.delete(dataout1, np.s_[r_y:r_y+r_h], axis=0)\n",
    "        #newD = np.concatenate([a,b])\n",
    "        #del d[i][c_x:c_x+c_w]\n",
    "        #newFile = open(f+\"_os.fits\",\"w+\")\n",
    "        \n",
    "    fits.writeto(f+\"_os.fits\", dataout2, overwrite=True)\n",
    "    return f + \" has had its overscan removed with your parameters!\""
   ]
  },
  {
   "cell_type": "code",
   "execution_count": 8,
   "metadata": {},
   "outputs": [
    {
     "data": {
      "text/plain": [
       "'wolf1346/Wolf1346/f/flat.0039.fits has had its overscan removed with your parameters!'"
      ]
     },
     "execution_count": 8,
     "metadata": {},
     "output_type": "execute_result"
    }
   ],
   "source": [
    "removeOverscan(\"wolf1346/Wolf1346/f/flat.0039.fits\", 1010, 80, 1020, 10)"
   ]
  },
  {
   "cell_type": "code",
   "execution_count": 13,
   "metadata": {},
   "outputs": [
    {
     "name": "stdout",
     "output_type": "stream",
     "text": [
      "[['flat.0005.fits', 'Wash M'], ['flat.0006.fits', 'Wash M'], ['flat.0007.fits', 'Wash M'], ['flat.0008.fits', 'Wash M'], ['flat.0009.fits', 'Wash M'], ['flat.0010.fits', 'Wash M'], ['flat.0011.fits', 'Wash M'], ['flat.0012.fits', 'Wash M'], ['flat.0013.fits', 'Wash M'], ['flat.0014.fits', 'Wash M'], ['flat.0015.fits', 'Wash M'], ['flat.0016.fits', 'Wash M'], ['flat.0017.fits', 'J-C Rc'], ['flat.0018.fits', 'J-C Rc'], ['flat.0019.fits', 'J-C Rc'], ['flat.0020.fits', 'J-C Rc'], ['flat.0021.fits', 'J-C Rc'], ['flat.0022.fits', 'J-C Rc'], ['flat.0023.fits', 'J-C Rc'], ['flat.0024.fits', 'J-C Rc'], ['flat.0025.fits', 'J-C Rc'], ['flat.0026.fits', 'J-C Rc'], ['flat.0027.fits', 'J-C Rc'], ['flat.0028.fits', 'J-C Rc'], ['flat.0029.fits', 'J-C Rc'], ['flat.0030.fits', 'J-C Rc'], ['flat.0031.fits', 'J-C Rc'], ['flat.0032.fits', 'J-C Rc'], ['flat.0033.fits', 'J-C Rc'], ['flat.0034.fits', 'J-C Rc'], ['flat.0035.fits', 'J-C Rc'], ['flat.0036.fits', 'J-C Rc'], ['flat.0037.fits', 'J-C Rc'], ['flat.0038.fits', 'J-C Rc'], ['flat.0039.fits', 'J-C Rc'], ['flat.0040.fits', 'J-C Rc'], ['flat.0041.fits', 'J-C Rc']]\n"
     ]
    }
   ],
   "source": [
    "filter_list = []\n",
    "for i in range(5, 10):\n",
    "    d, header = fits.getdata('wolf1346/Wolf1346/f/flat.000' + str(i) + '.fits',header=True)\n",
    "    filter_list.append(['flat.000' + str(i) + '.fits', header['FILTER']])\n",
    "for i in range(10, 42):\n",
    "    d, header = fits.getdata('wolf1346/Wolf1346/f/flat.00' + str(i) + '.fits',header=True)\n",
    "    filter_list.append(['flat.00' + str(i) + '.fits', header['FILTER']])\n",
    "print(filter_list)"
   ]
  },
  {
   "cell_type": "code",
   "execution_count": null,
   "metadata": {},
   "outputs": [],
   "source": []
  }
 ],
 "metadata": {
  "kernelspec": {
   "display_name": "Python 3",
   "language": "python",
   "name": "python3"
  },
  "language_info": {
   "codemirror_mode": {
    "name": "ipython",
    "version": 3
   },
   "file_extension": ".py",
   "mimetype": "text/x-python",
   "name": "python",
   "nbconvert_exporter": "python",
   "pygments_lexer": "ipython3",
   "version": "3.6.4"
  }
 },
 "nbformat": 4,
 "nbformat_minor": 2
}
