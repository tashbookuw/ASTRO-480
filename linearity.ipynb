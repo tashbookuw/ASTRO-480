{
 "cells": [
  {
   "cell_type": "markdown",
   "metadata": {},
   "source": [
    "# Detector Gain\n",
    "\n",
    "You could calculate the mean of each flat image manually using IRAF. Alternatively, you could calculate the means for all of the images automatically using Python."
   ]
  },
  {
   "cell_type": "code",
   "execution_count": 1,
   "metadata": {},
   "outputs": [],
   "source": [
    "from astropy.io import fits\n",
    "import numpy as np\n",
    "import matplotlib.pyplot as plt\n",
    "# glob serves some of the same functions as ls in the terminal\n",
    "import glob"
   ]
  },
  {
   "cell_type": "markdown",
   "metadata": {},
   "source": [
    "## FITS Headers\n",
    "The headers of the FITS files contain the exposure times of the flat images. Now we use `fits.open` instead of `fits.getdata`. HDU stands for Header/Data Unit."
   ]
  },
  {
   "cell_type": "code",
   "execution_count": 2,
   "metadata": {},
   "outputs": [
    {
     "name": "stdout",
     "output_type": "stream",
     "text": [
      "90.0\n"
     ]
    }
   ],
   "source": [
    "hdu = fits.open('ccd_fits/480_2018-flat-16000.Light.90S0X1.R.217.fits')\n",
    "header = hdu[0].header\n",
    "print(header['exptime'])"
   ]
  },
  {
   "cell_type": "markdown",
   "metadata": {},
   "source": [
    "## Calculating Mean Counts\n",
    "We can find all of the flat images, assuming they all have 'Flat' in the name.\n",
    "#### You will need to change the path to the directory containing your data."
   ]
  },
  {
   "cell_type": "code",
   "execution_count": 3,
   "metadata": {},
   "outputs": [
    {
     "name": "stdout",
     "output_type": "stream",
     "text": [
      "['ccd_fits/linearity\\\\480_2018-flat-16000.Light.0S0X1.R.233.fits', 'ccd_fits/linearity\\\\480_2018-flat-16000.Light.90S0X1.R.217.fits', 'ccd_fits/linearity\\\\480_2018-flat-16000.Light.81S0X1.R.218.fits', 'ccd_fits/linearity\\\\480_2018-flat-16000.Light.72S0X1.R.219.fits', 'ccd_fits/linearity\\\\480_2018-flat-16000.Light.63S0X1.R.220.fits', 'ccd_fits/linearity\\\\480_2018-flat-16000.Light.54S0X1.R.221.fits', 'ccd_fits/linearity\\\\480_2018-flat-16000.Light.45S0X1.R.222.fits', 'ccd_fits/linearity\\\\480_2018-flat-16000.Light.36S0X1.R.223.fits', 'ccd_fits/linearity\\\\480_2018-flat-16000.Light.27S0X1.R.224.fits', 'ccd_fits/linearity\\\\480_2018-flat-16000.Light.18S0X1.R.225.fits', 'ccd_fits/linearity\\\\480_2018-flat-16000.Light.9S0X1.R.226.fits', 'ccd_fits/linearity\\\\480_2018-flat-16000.Light.4S0X1.R.227.fits', 'ccd_fits/linearity\\\\480_2018-flat-16000.Light.2S0X1.R.228.fits', 'ccd_fits/linearity\\\\480_2018-flat-16000.Light.1S0X1.R.229.fits', 'ccd_fits/linearity\\\\480_2018-flat-16000.Light.5S0X1.R.230.fits', 'ccd_fits/linearity\\\\480_2018-flat-16000.Light.0S0X1.R.231.fits', 'ccd_fits/linearity\\\\480_2018-flat-16000.Light.0S0X1.R.232.fits']\n"
     ]
    }
   ],
   "source": [
    "# This is equivalent to $ ls Flat*.fits\n",
    "flat_list = glob.glob('ccd_fits/linearity/480*.fits')\n",
    "print(flat_list)"
   ]
  },
  {
   "cell_type": "markdown",
   "metadata": {},
   "source": [
    "Now we can loop through each flat image, and keep track of the exposure time and mean counts"
   ]
  },
  {
   "cell_type": "code",
   "execution_count": 92,
   "metadata": {},
   "outputs": [
    {
     "name": "stdout",
     "output_type": "stream",
     "text": [
      "Exposure time 0.12 sec\n",
      "Mean counts: 1406.07\n",
      "\n",
      "Max counts: 8189.00\n",
      "\n",
      "Exposure time 90.0 sec\n",
      "Mean counts: 58432.18\n",
      "\n",
      "Max counts: 65535.00\n",
      "\n",
      "Exposure time 81.0 sec\n",
      "Mean counts: 58436.33\n",
      "\n",
      "Max counts: 65535.00\n",
      "\n",
      "Exposure time 72.0 sec\n",
      "Mean counts: 58431.50\n",
      "\n",
      "Max counts: 65535.00\n",
      "\n",
      "Exposure time 63.0 sec\n",
      "Mean counts: 58416.25\n",
      "\n",
      "Max counts: 65535.00\n",
      "\n",
      "Exposure time 54.0 sec\n",
      "Mean counts: 58427.91\n",
      "\n",
      "Max counts: 65535.00\n",
      "\n",
      "Exposure time 45.0 sec\n",
      "Mean counts: 58432.72\n",
      "\n",
      "Max counts: 65535.00\n",
      "\n",
      "Exposure time 36.0 sec\n",
      "Mean counts: 58422.42\n",
      "\n",
      "Max counts: 65535.00\n",
      "\n",
      "Exposure time 27.0 sec\n",
      "Mean counts: 58088.22\n",
      "\n",
      "Max counts: 65535.00\n",
      "\n",
      "Exposure time 18.0 sec\n",
      "Mean counts: 55779.22\n",
      "\n",
      "Max counts: 56897.00\n",
      "\n",
      "Exposure time 9.0 sec\n",
      "Mean counts: 30168.62\n",
      "\n",
      "Max counts: 52539.00\n",
      "\n",
      "Exposure time 4.5 sec\n",
      "Mean counts: 15845.79\n",
      "\n",
      "Max counts: 49886.00\n",
      "\n",
      "Exposure time 2.25 sec\n",
      "Mean counts: 8388.56\n",
      "\n",
      "Max counts: 29659.00\n",
      "\n",
      "Exposure time 1.125 sec\n",
      "Mean counts: 4740.03\n",
      "\n",
      "Max counts: 17261.00\n",
      "\n",
      "Exposure time 5.625 sec\n",
      "Mean counts: 19154.28\n",
      "\n",
      "Max counts: 51725.00\n",
      "\n",
      "Exposure time 0.563 sec\n",
      "Mean counts: 2815.32\n",
      "\n",
      "Max counts: 13247.00\n",
      "\n",
      "Exposure time 0.281 sec\n",
      "Mean counts: 1916.79\n",
      "\n",
      "Max counts: 10444.00\n",
      "\n"
     ]
    }
   ],
   "source": [
    "# These are empty lists (arrays) to store the exposure times and mean counts\n",
    "exp_times = []\n",
    "means = []\n",
    "maxs = []\n",
    "\n",
    "for filename in flat_list:\n",
    "    # Open the FITS file\n",
    "    hdu = fits.open(filename)\n",
    "    \n",
    "    exptime = hdu[0].header['exptime']\n",
    "    print('Exposure time {} sec'.format(exptime))\n",
    "    \n",
    "    # This will append the exposure time for each image to the array\n",
    "    exp_times.append(exptime)\n",
    "    \n",
    "    # Same for mean counts\n",
    "    mean_counts = np.mean(hdu[0].data)\n",
    "    print('Mean counts: {:.2f}\\n'.format(mean_counts))\n",
    "    print('Max counts: {:.2f}\\n'.format(np.max(hdu[0].data)))\n",
    "    means.append(mean_counts)\n",
    "    maxs.append(np.max(hdu[0].data))\n",
    "# Convert to Numpy arrays so they can be sorted\n",
    "exp_times = np.array(exp_times)\n",
    "means = np.array(means)\n",
    "\n",
    "# Sort by exposure time so the plot looks correct\n",
    "time_sort = np.argsort(exp_times)\n",
    "exp_times = exp_times[time_sort]\n",
    "means = means[time_sort]"
   ]
  },
  {
   "cell_type": "markdown",
   "metadata": {},
   "source": [
    "## Plot mean counts versus exposure time\n"
   ]
  },
  {
   "cell_type": "code",
   "execution_count": 115,
   "metadata": {},
   "outputs": [
    {
     "data": {
      "image/png": "[encoded data removed]",
      "text/plain": [
       "<matplotlib.figure.Figure at 0x1dcafbc38d0>"
      ]
     },
     "metadata": {},
     "output_type": "display_data"
    }
   ],
   "source": [
    "plt.figure(figsize=(10, 8))\n",
    "plt.rcParams['font.size'] = 16\n",
    "maxs = [65535,\n",
    " 65535,\n",
    " 65535,\n",
    " 65535,\n",
    " 65535,\n",
    " 65535,\n",
    " 65535,\n",
    " 65535,\n",
    " 56897,\n",
    " 52539,\n",
    "        51725,\n",
    " 49886,\n",
    " 29659,\n",
    " 17261,\n",
    "\n",
    " 13247,\n",
    " 10444,8189]\n",
    "plt.plot(exp_times[::-1],maxs,'-w.', markersize=11,color='xkcd:indigo')\n",
    "#plt.gca().set_facecolor('black')\n",
    "plt.xlabel('Exposure Time (sec)')\n",
    "plt.ylabel('Maximum count')\n",
    "plt.show()"
   ]
  },
  {
   "cell_type": "code",
   "execution_count": 113,
   "metadata": {},
   "outputs": [
    {
     "data": {
      "text/plain": [
       "array([90.   , 81.   , 72.   , 63.   , 54.   , 45.   , 36.   , 27.   ,\n",
       "       18.   ,  9.   ,  5.625,  4.5  ,  2.25 ,  1.125,  0.563,  0.281,\n",
       "        0.12 ])"
      ]
     },
     "execution_count": 113,
     "metadata": {},
     "output_type": "execute_result"
    }
   ],
   "source": [
    "exp_times[::-1]"
   ]
  },
  {
   "cell_type": "code",
   "execution_count": null,
   "metadata": {},
   "outputs": [],
   "source": []
  }
 ],
 "metadata": {
  "anaconda-cloud": {},
  "kernelspec": {
   "display_name": "Python 3",
   "language": "python",
   "name": "python3"
  },
  "language_info": {
   "codemirror_mode": {
    "name": "ipython",
    "version": 3
   },
   "file_extension": ".py",
   "mimetype": "text/x-python",
   "name": "python",
   "nbconvert_exporter": "python",
   "pygments_lexer": "ipython3",
   "version": "3.6.4"
  }
 },
 "nbformat": 4,
 "nbformat_minor": 1
}
